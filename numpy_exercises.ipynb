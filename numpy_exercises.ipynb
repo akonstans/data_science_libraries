{
 "cells": [
  {
   "cell_type": "code",
   "execution_count": 3,
   "id": "190b6951",
   "metadata": {},
   "outputs": [],
   "source": [
    "import numpy as np"
   ]
  },
  {
   "cell_type": "code",
   "execution_count": 4,
   "id": "40049a68",
   "metadata": {},
   "outputs": [],
   "source": [
    "a = np.array([4, 10, 12, 23, -2, -1, 0, 0, 0, -6, 3, -7])"
   ]
  },
  {
   "cell_type": "code",
   "execution_count": 5,
   "id": "30c0b209",
   "metadata": {},
   "outputs": [
    {
     "data": {
      "text/plain": [
       "4"
      ]
     },
     "execution_count": 5,
     "metadata": {},
     "output_type": "execute_result"
    }
   ],
   "source": [
    "np.count_nonzero(a < 0)"
   ]
  },
  {
   "cell_type": "code",
   "execution_count": 6,
   "id": "fe5e7f4e",
   "metadata": {},
   "outputs": [
    {
     "data": {
      "text/plain": [
       "5"
      ]
     },
     "execution_count": 6,
     "metadata": {},
     "output_type": "execute_result"
    }
   ],
   "source": [
    "np.count_nonzero(a > 0)"
   ]
  },
  {
   "cell_type": "code",
   "execution_count": 7,
   "id": "6445bc21",
   "metadata": {},
   "outputs": [
    {
     "data": {
      "text/plain": [
       "3"
      ]
     },
     "execution_count": 7,
     "metadata": {},
     "output_type": "execute_result"
    }
   ],
   "source": [
    "np.count_nonzero(a[(a > 0) & (a % 2 == 0)])"
   ]
  },
  {
   "cell_type": "code",
   "execution_count": 8,
   "id": "f66aeffd",
   "metadata": {},
   "outputs": [
    {
     "data": {
      "text/plain": [
       "10"
      ]
     },
     "execution_count": 8,
     "metadata": {},
     "output_type": "execute_result"
    }
   ],
   "source": [
    "b = a + 3\n",
    "np.count_nonzero(b > 0)"
   ]
  },
  {
   "cell_type": "code",
   "execution_count": 9,
   "id": "d3302e28",
   "metadata": {},
   "outputs": [
    {
     "data": {
      "text/plain": [
       "74.0"
      ]
     },
     "execution_count": 9,
     "metadata": {},
     "output_type": "execute_result"
    }
   ],
   "source": [
    "c = a ** 2\n",
    "np.mean(c)"
   ]
  },
  {
   "cell_type": "code",
   "execution_count": 10,
   "id": "cc1ecc4d",
   "metadata": {},
   "outputs": [
    {
     "data": {
      "text/plain": [
       "144.0243035046516"
      ]
     },
     "execution_count": 10,
     "metadata": {},
     "output_type": "execute_result"
    }
   ],
   "source": [
    "np.std(c)"
   ]
  },
  {
   "cell_type": "code",
   "execution_count": 11,
   "id": "b1f9ab44",
   "metadata": {},
   "outputs": [
    {
     "data": {
      "text/plain": [
       "0.0"
      ]
     },
     "execution_count": 11,
     "metadata": {},
     "output_type": "execute_result"
    }
   ],
   "source": [
    "zero = a - np.mean(a)\n",
    "np.mean(zero)"
   ]
  },
  {
   "cell_type": "code",
   "execution_count": 12,
   "id": "112a1523",
   "metadata": {},
   "outputs": [
    {
     "data": {
      "text/plain": [
       "array([ 3.6278958,  9.6278958, 11.6278958, 22.6278958, -2.3721042,\n",
       "       -1.3721042, -0.3721042, -0.3721042, -0.3721042, -6.3721042,\n",
       "        2.6278958, -7.3721042])"
      ]
     },
     "execution_count": 12,
     "metadata": {},
     "output_type": "execute_result"
    }
   ],
   "source": [
    "e = (a - np.mean(a)/ np.std(a))\n",
    "e"
   ]
  },
  {
   "cell_type": "code",
   "execution_count": 13,
   "id": "2950a777",
   "metadata": {},
   "outputs": [
    {
     "ename": "TypeError",
     "evalue": "'int' object is not iterable",
     "output_type": "error",
     "traceback": [
      "\u001b[0;31m---------------------------------------------------------------------------\u001b[0m",
      "\u001b[0;31mTypeError\u001b[0m                                 Traceback (most recent call last)",
      "Input \u001b[0;32mIn [13]\u001b[0m, in \u001b[0;36m<cell line: 7>\u001b[0;34m()\u001b[0m\n\u001b[1;32m      6\u001b[0m sum_of_a \u001b[38;5;241m=\u001b[39m \u001b[38;5;241m0\u001b[39m\n\u001b[1;32m      7\u001b[0m \u001b[38;5;28;01mfor\u001b[39;00m row \u001b[38;5;129;01min\u001b[39;00m a:\n\u001b[0;32m----> 8\u001b[0m     sum_of_a \u001b[38;5;241m+\u001b[39m\u001b[38;5;241m=\u001b[39m \u001b[38;5;28;43msum\u001b[39;49m\u001b[43m(\u001b[49m\u001b[43mrow\u001b[49m\u001b[43m)\u001b[49m\n\u001b[1;32m      9\u001b[0m \u001b[38;5;66;03m# Exercise 2 - Make a variable named min_of_a to hold the minimum of all the numbers in the above list\u001b[39;00m\n\u001b[1;32m     10\u001b[0m min_of_a \u001b[38;5;241m=\u001b[39m \u001b[38;5;28mmin\u001b[39m(a[\u001b[38;5;241m0\u001b[39m]) \u001b[38;5;28;01mif\u001b[39;00m \u001b[38;5;28mmin\u001b[39m(b[\u001b[38;5;241m0\u001b[39m]) \u001b[38;5;241m<\u001b[39m\u001b[38;5;241m=\u001b[39m \u001b[38;5;28mmin\u001b[39m(a[\u001b[38;5;241m1\u001b[39m]) \u001b[38;5;28;01melse\u001b[39;00m \u001b[38;5;28mmin\u001b[39m(a[\u001b[38;5;241m1\u001b[39m])  \n",
      "\u001b[0;31mTypeError\u001b[0m: 'int' object is not iterable"
     ]
    }
   ],
   "source": [
    "## Setup 1\n",
    "a = [1, 2, 3, 4, 5, 6, 7, 8, 9, 10]\n",
    "\n",
    "# Use python's built in functionality/operators to determine the following:\n",
    "# Exercise 1 - Make a variable called sum_of_a to hold the sum of all the numbers in above list\n",
    "sum_of_a = 0\n",
    "for row in a:\n",
    "    sum_of_a += sum(row)\n",
    "# Exercise 2 - Make a variable named min_of_a to hold the minimum of all the numbers in the above list\n",
    "min_of_a = min(a[0]) if min(b[0]) <= min(a[1]) else min(a[1])  \n",
    "# Exercise 3 - Make a variable named max_of_a to hold the max number of all the numbers in the above list\n",
    "max_of_a = max(a[0]) if max(a[0]) >= max(a[1]) else max(a[1])\n",
    "# Exercise 4 - Make a variable named mean_of_a to hold the average of all the numbers in the above list\n",
    "mean_of_a = (sum(a[0]) + sum(a[1])) / (len(a[0]) + len(a[1]))\n",
    "# Exercise 5 - Make a variable named product_of_a to hold the product of multiplying all the numbers in the above list together\n",
    "product_of_a = 1\n",
    "for row in a:\n",
    "    for number in row:\n",
    "        product_of_a *= number\n",
    "\n",
    "# Exercise 6 - Make a variable named squares_of_a. It should hold each number in a squared like [1, 4, 9, 16, 25...]\n",
    "squares_of_a = []\n",
    "for row in a:\n",
    "    for number in row:\n",
    "        squares_of_a.append(number**2)\n",
    "\n",
    "# Exercise 7 - Make a variable named odds_in_a. It should hold only the odd numbers\n",
    "odds_in_a = []\n",
    "for row in a:\n",
    "    for number in row:\n",
    "        if(number % 2 != 0):\n",
    "            odds_in_a.append(number)\n",
    "\n",
    "# Exercise 8 - Make a variable named evens_in_a. It should hold only the evens.\n",
    "evens_in_a = []\n",
    "for row in a:\n",
    "    for number in row:\n",
    "        if(number % 2 == 0):\n",
    "            evens_in_a.append(number)\n",
    "\n",
    "## What about life in two dimensions? A list of lists is matrix, a table, a spreadsheet, a chessboard..."
   ]
  },
  {
   "cell_type": "code",
   "execution_count": 14,
   "id": "19b2f419",
   "metadata": {},
   "outputs": [
    {
     "data": {
      "text/plain": [
       "array([[3],\n",
       "       [4],\n",
       "       [5],\n",
       "       [6],\n",
       "       [7],\n",
       "       [8]])"
      ]
     },
     "execution_count": 14,
     "metadata": {},
     "output_type": "execute_result"
    }
   ],
   "source": [
    "## Setup 2: Consider what it would take to find the sum, min, max, average, sum, product, and list of squares for this list of two lists.\n",
    "b = np.array([\n",
    "    [3, 4, 5],\n",
    "    [6, 7, 8]])\n",
    "\n",
    "# Exercise 1 - refactor the following to use numpy. Use sum_of_b as the variable. **Hint, you'll first need to make sure that the \"b\" variable is a numpy array**\n",
    "sum_of_b = b.sum()\n",
    "# Exercise 2 - refactor the following to use numpy. \n",
    "min_of_b = b.min() \n",
    "\n",
    "# Exercise 3 - refactor the following maximum calculation to find the answer with numpy.\n",
    "max_of_b = b.max()\n",
    "\n",
    "# Exercise 4 - refactor the following using numpy to find the mean of b\n",
    "mean_of_b = b.mean()\n",
    "\n",
    "# Exercise 5 - refactor the following to use numpy for calculating the product of all numbers multiplied together.\n",
    "product_of_b = np.product(b)\n",
    "\n",
    "# Exercise 6 - refactor the following to use numpy to find the list of squares \n",
    "squares_of_b = np.square(b)\n",
    "\n",
    "# Exercise 7 - refactor using numpy to determine the odds_in_b\n",
    "odds_in_b = b[b % 2 == 1]\n",
    "\n",
    "\n",
    "# Exercise 8 - refactor the following to use numpy to filter only the even numbers\n",
    "evens_in_b = b[b % 2 == 0]\n",
    "\n",
    "# Exercise 9 - print out the shape of the array b.\n",
    "b.shape\n",
    "# Exercise 10 - transpose the array b.\n",
    "np.transpose(b)\n",
    "# Exercise 11 - reshape the array b to be a single list of 6 numbers. (1 x 6)\n",
    "np.reshape(b, (1, 6))\n",
    "# Exercise 12 - reshape the array b to be a list of 6 lists, each containing only 1 number (6 x 1)\n",
    "np.reshape(b, (6, 1))"
   ]
  },
  {
   "cell_type": "code",
   "execution_count": 15,
   "id": "fc0772a1",
   "metadata": {},
   "outputs": [
    {
     "ename": "TypeError",
     "evalue": "dot() missing 1 required positional argument: 'b'",
     "output_type": "error",
     "traceback": [
      "\u001b[0;31m---------------------------------------------------------------------------\u001b[0m",
      "\u001b[0;31mTypeError\u001b[0m                                 Traceback (most recent call last)",
      "Input \u001b[0;32mIn [15]\u001b[0m, in \u001b[0;36m<cell line: 24>\u001b[0;34m()\u001b[0m\n\u001b[1;32m     22\u001b[0m c\n\u001b[1;32m     23\u001b[0m \u001b[38;5;66;03m# Exercise 6 - Get the dot product of the array c with c. \u001b[39;00m\n\u001b[0;32m---> 24\u001b[0m \u001b[43mnp\u001b[49m\u001b[38;5;241;43m.\u001b[39;49m\u001b[43mdot\u001b[49m\u001b[43m(\u001b[49m\u001b[43mc\u001b[49m\u001b[43m)\u001b[49m\n\u001b[1;32m     25\u001b[0m \u001b[38;5;66;03m# Exercise 7 - Write the code necessary to sum up the result of c times c transposed. Answer should be 261\u001b[39;00m\n\u001b[1;32m     26\u001b[0m np\u001b[38;5;241m.\u001b[39msum(np\u001b[38;5;241m.\u001b[39mtranspose(c) \u001b[38;5;241m*\u001b[39m c)\n",
      "File \u001b[0;32m<__array_function__ internals>:4\u001b[0m, in \u001b[0;36mdot\u001b[0;34m(*args, **kwargs)\u001b[0m\n",
      "\u001b[0;31mTypeError\u001b[0m: dot() missing 1 required positional argument: 'b'"
     ]
    }
   ],
   "source": [
    "## Setup 3\n",
    "c = np.array([\n",
    "    [1, 2, 3],\n",
    "    [4, 5, 6],\n",
    "    [7, 8, 9]\n",
    "])\n",
    "\n",
    "# HINT, you'll first need to make sure that the \"c\" variable is a numpy array prior to using numpy array methods.\n",
    "# Exercise 1 - Find the min, max, sum, and product of c.\n",
    "c.min()\n",
    "c.max()\n",
    "c.sum()\n",
    "np.product(c)\n",
    "# Exercise 2 - Determine the standard deviation of c.\n",
    "np.std(c)\n",
    "# Exercise 3 - Determine the variance of c.\n",
    "np.var(c)\n",
    "# Exercise 4 - Print out the shape of the array c\n",
    "c.shape\n",
    "# Exercise 5 - Transpose c and print out transposed result.\n",
    "np.transpose(c)\n",
    "c\n",
    "# Exercise 6 - Get the dot product of the array c with c. \n",
    "np.dot(c)\n",
    "# Exercise 7 - Write the code necessary to sum up the result of c times c transposed. Answer should be 261\n",
    "np.sum(np.transpose(c) * c)\n",
    "# Exercise 8 - Write the code necessary to determine the product of c times c transposed. Answer should be 131681894400.\n",
    "np.product(np.transpose(c) * c)"
   ]
  },
  {
   "cell_type": "code",
   "execution_count": 16,
   "id": "1e8e368d",
   "metadata": {},
   "outputs": [
    {
     "data": {
      "text/plain": [
       "array([[ 90,  30],\n",
       "       [ 45,   0],\n",
       "       [120, 180],\n",
       "       [ 45, -90],\n",
       "       [-30, 270],\n",
       "       [ 90,   0],\n",
       "       [ 60,  45],\n",
       "       [-45,  90],\n",
       "       [-45, 180]])"
      ]
     },
     "execution_count": 16,
     "metadata": {},
     "output_type": "execute_result"
    }
   ],
   "source": [
    "## Setup 4\n",
    "d = np.array([\n",
    "    [90, 30, 45, 0, 120, 180],\n",
    "    [45, -90, -30, 270, 90, 0],\n",
    "    [60, 45, -45, 90, -45, 180]\n",
    "])\n",
    "\n",
    "# Exercise 1 - Find the sine of all the numbers in d\n",
    "np.sin(d)\n",
    "# Exercise 2 - Find the cosine of all the numbers in d\n",
    "np.cos(d)\n",
    "# Exercise 3 - Find the tangent of all the numbers in d\n",
    "np.tan(d)\n",
    "# Exercise 4 - Find all the negative numbers in d\n",
    "d[d < 0]\n",
    "# Exercise 5 - Find all the positive numbers in d\n",
    "d[ d > 0]\n",
    "# Exercise 6 - Return an array of only the unique numbers in d.\n",
    "np.unique(d)\n",
    "# Exercise 7 - Determine how many unique numbers there are in d.\n",
    "np.count_nonzero(np.unique(d)) + np.count_nonzero(np.unique(d == 0))\n",
    "# Exercise 8 - Print out the shape of d.\n",
    "d.shape\n",
    "# Exercise 9 - Transpose and then print out the shape of d.\n",
    "np.transpose(d).shape\n",
    "# Exercise 10 - Reshape d into an array of 9 x 2\n",
    "np.reshape(d, (9,2))"
   ]
  }
 ],
 "metadata": {
  "kernelspec": {
   "display_name": "Python 3 (ipykernel)",
   "language": "python",
   "name": "python3"
  },
  "language_info": {
   "codemirror_mode": {
    "name": "ipython",
    "version": 3
   },
   "file_extension": ".py",
   "mimetype": "text/x-python",
   "name": "python",
   "nbconvert_exporter": "python",
   "pygments_lexer": "ipython3",
   "version": "3.9.13"
  }
 },
 "nbformat": 4,
 "nbformat_minor": 5
}
