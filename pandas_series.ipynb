{
 "cells": [
  {
   "cell_type": "code",
   "execution_count": 2,
   "id": "26b5b126",
   "metadata": {},
   "outputs": [],
   "source": [
    "import pandas as pd\n",
    "import numpy as np\n",
    "from pydataset import data"
   ]
  },
  {
   "cell_type": "code",
   "execution_count": 3,
   "id": "5217d3df",
   "metadata": {},
   "outputs": [],
   "source": [
    "my_list = [\"kiwi\", \"mango\", \"strawberry\", \"pineapple\", \"gala apple\", \"honeycrisp apple\", \"tomato\", \"watermelon\", \"honeydew\", \"kiwi\", \"kiwi\", \"kiwi\", \"mango\", \"blueberry\", \"blackberry\", \"gooseberry\", \"papaya\"]\n",
    "fruits = pd.Series(my_list)"
   ]
  },
  {
   "cell_type": "code",
   "execution_count": 4,
   "id": "9b021dce",
   "metadata": {},
   "outputs": [
    {
     "data": {
      "text/plain": [
       "17"
      ]
     },
     "execution_count": 4,
     "metadata": {},
     "output_type": "execute_result"
    }
   ],
   "source": [
    "fruits.size\n",
    "# total elements in the list"
   ]
  },
  {
   "cell_type": "code",
   "execution_count": 5,
   "id": "bafca460",
   "metadata": {},
   "outputs": [
    {
     "data": {
      "text/plain": [
       "[0, 1, 2, 3, 4, 5, 6, 7, 8, 9, 10, 11, 12, 13, 14, 15, 16]"
      ]
     },
     "execution_count": 5,
     "metadata": {},
     "output_type": "execute_result"
    }
   ],
   "source": [
    "list(fruits.index)"
   ]
  },
  {
   "cell_type": "code",
   "execution_count": 38,
   "id": "85b05211",
   "metadata": {},
   "outputs": [
    {
     "data": {
      "text/plain": [
       "array(['kiwi', 'mango', 'strawberry', 'pineapple', 'gala apple',\n",
       "       'honeycrisp apple', 'tomato', 'watermelon', 'honeydew', 'kiwi',\n",
       "       'kiwi', 'kiwi', 'mango', 'blueberry', 'blackberry', 'gooseberry',\n",
       "       'papaya'], dtype=object)"
      ]
     },
     "execution_count": 38,
     "metadata": {},
     "output_type": "execute_result"
    }
   ],
   "source": [
    "fruits.values"
   ]
  },
  {
   "cell_type": "code",
   "execution_count": 28,
   "id": "a16fa947",
   "metadata": {},
   "outputs": [
    {
     "data": {
      "text/plain": [
       "dtype('O')"
      ]
     },
     "execution_count": 28,
     "metadata": {},
     "output_type": "execute_result"
    }
   ],
   "source": [
    "fruits.dtype"
   ]
  },
  {
   "cell_type": "code",
   "execution_count": 24,
   "id": "d2d56c67",
   "metadata": {},
   "outputs": [
    {
     "data": {
      "text/plain": [
       "0          kiwi\n",
       "1         mango\n",
       "2    strawberry\n",
       "3     pineapple\n",
       "4    gala apple\n",
       "dtype: object"
      ]
     },
     "execution_count": 24,
     "metadata": {},
     "output_type": "execute_result"
    }
   ],
   "source": [
    "fruits.head()"
   ]
  },
  {
   "cell_type": "code",
   "execution_count": 29,
   "id": "5c6eecda",
   "metadata": {},
   "outputs": [
    {
     "data": {
      "text/plain": [
       "14    blackberry\n",
       "15    gooseberry\n",
       "16        papaya\n",
       "dtype: object"
      ]
     },
     "execution_count": 29,
     "metadata": {},
     "output_type": "execute_result"
    }
   ],
   "source": [
    "fruits.tail(3)"
   ]
  },
  {
   "cell_type": "code",
   "execution_count": 32,
   "id": "9bd6d396",
   "metadata": {},
   "outputs": [
    {
     "data": {
      "text/plain": [
       "14    blackberry\n",
       "1          mango\n",
       "dtype: object"
      ]
     },
     "execution_count": 32,
     "metadata": {},
     "output_type": "execute_result"
    }
   ],
   "source": [
    "fruits.sample(2)"
   ]
  },
  {
   "cell_type": "code",
   "execution_count": 13,
   "id": "531fb8e7",
   "metadata": {},
   "outputs": [
    {
     "data": {
      "text/plain": [
       "count       17\n",
       "unique      13\n",
       "top       kiwi\n",
       "freq         4\n",
       "dtype: object"
      ]
     },
     "execution_count": 13,
     "metadata": {},
     "output_type": "execute_result"
    }
   ],
   "source": [
    "fruits.describe()"
   ]
  },
  {
   "cell_type": "code",
   "execution_count": 6,
   "id": "2b1692f5",
   "metadata": {},
   "outputs": [
    {
     "data": {
      "text/plain": [
       "Index(['kiwi', 'mango', 'strawberry', 'pineapple', 'gala apple',\n",
       "       'honeycrisp apple', 'tomato', 'watermelon', 'honeydew', 'blueberry',\n",
       "       'blackberry', 'gooseberry', 'papaya'],\n",
       "      dtype='object')"
      ]
     },
     "execution_count": 6,
     "metadata": {},
     "output_type": "execute_result"
    }
   ],
   "source": [
    "fruits.unique()\n",
    "fruits.value_counts().index"
   ]
  },
  {
   "cell_type": "code",
   "execution_count": 35,
   "id": "12807ab3",
   "metadata": {},
   "outputs": [
    {
     "data": {
      "text/plain": [
       "kiwi                4\n",
       "mango               2\n",
       "strawberry          1\n",
       "pineapple           1\n",
       "gala apple          1\n",
       "honeycrisp apple    1\n",
       "tomato              1\n",
       "watermelon          1\n",
       "honeydew            1\n",
       "blueberry           1\n",
       "blackberry          1\n",
       "gooseberry          1\n",
       "papaya              1\n",
       "dtype: int64"
      ]
     },
     "execution_count": 35,
     "metadata": {},
     "output_type": "execute_result"
    }
   ],
   "source": [
    "fruits.value_counts()"
   ]
  },
  {
   "cell_type": "code",
   "execution_count": 10,
   "id": "8fc88a20",
   "metadata": {},
   "outputs": [
    {
     "data": {
      "text/plain": [
       "kiwi    4\n",
       "dtype: int64"
      ]
     },
     "execution_count": 10,
     "metadata": {},
     "output_type": "execute_result"
    }
   ],
   "source": [
    "fruits.value_counts().nlargest(1)\n",
    "fruits.mode()\n",
    "fruits.value_counts().idxmax()\n",
    "fruits.describe().loc['top']\n",
    "fruits.value_counts().head(1)"
   ]
  },
  {
   "cell_type": "code",
   "execution_count": 15,
   "id": "e7a32c51",
   "metadata": {},
   "outputs": [
    {
     "data": {
      "text/plain": [
       "strawberry          1\n",
       "pineapple           1\n",
       "gala apple          1\n",
       "honeycrisp apple    1\n",
       "tomato              1\n",
       "watermelon          1\n",
       "honeydew            1\n",
       "blueberry           1\n",
       "blackberry          1\n",
       "gooseberry          1\n",
       "papaya              1\n",
       "dtype: int64"
      ]
     },
     "execution_count": 15,
     "metadata": {},
     "output_type": "execute_result"
    }
   ],
   "source": [
    "fruits.value_counts().nsmallest(1, keep='all')"
   ]
  },
  {
   "cell_type": "code",
   "execution_count": 63,
   "id": "d451bfbc",
   "metadata": {},
   "outputs": [
    {
     "data": {
      "text/plain": [
       "0                 KIWI\n",
       "1                MANGO\n",
       "2           STRAWBERRY\n",
       "3            PINEAPPLE\n",
       "4           GALA APPLE\n",
       "5     HONEYCRISP APPLE\n",
       "6               TOMATO\n",
       "7           WATERMELON\n",
       "8             HONEYDEW\n",
       "9                 KIWI\n",
       "10                KIWI\n",
       "11                KIWI\n",
       "12               MANGO\n",
       "13           BLUEBERRY\n",
       "14          BLACKBERRY\n",
       "15          GOOSEBERRY\n",
       "16              PAPAYA\n",
       "dtype: object"
      ]
     },
     "execution_count": 63,
     "metadata": {},
     "output_type": "execute_result"
    }
   ],
   "source": [
    "fruits.str.upper()"
   ]
  },
  {
   "cell_type": "code",
   "execution_count": 17,
   "id": "e701ed54",
   "metadata": {},
   "outputs": [
    {
     "data": {
      "text/plain": [
       "0     0\n",
       "1     1\n",
       "2     1\n",
       "3     1\n",
       "4     3\n",
       "5     1\n",
       "6     1\n",
       "7     1\n",
       "8     0\n",
       "9     0\n",
       "10    0\n",
       "11    0\n",
       "12    1\n",
       "13    0\n",
       "14    1\n",
       "15    0\n",
       "16    3\n",
       "dtype: int64"
      ]
     },
     "execution_count": 17,
     "metadata": {},
     "output_type": "execute_result"
    }
   ],
   "source": [
    "fruits.str.count('a')"
   ]
  },
  {
   "cell_type": "code",
   "execution_count": 23,
   "id": "82dc2bdd",
   "metadata": {},
   "outputs": [
    {
     "data": {
      "text/plain": [
       "0     2\n",
       "1     2\n",
       "2     2\n",
       "3     4\n",
       "4     4\n",
       "5     5\n",
       "6     3\n",
       "7     4\n",
       "8     3\n",
       "9     2\n",
       "10    2\n",
       "11    2\n",
       "12    2\n",
       "13    3\n",
       "14    2\n",
       "15    4\n",
       "16    3\n",
       "dtype: int64"
      ]
     },
     "execution_count": 23,
     "metadata": {},
     "output_type": "execute_result"
    }
   ],
   "source": [
    "def vowel_count(string):\n",
    "    vowels = 'aeiou'\n",
    "    count = 0\n",
    "    for n in string:\n",
    "        if n in vowels:\n",
    "            count += 1\n",
    "    return count\n",
    "fruits_with_vowels = fruits.apply(vowel_count)\n",
    "fruits_with_vowels"
   ]
  },
  {
   "cell_type": "code",
   "execution_count": 96,
   "id": "1c5f77d4",
   "metadata": {},
   "outputs": [
    {
     "data": {
      "text/plain": [
       "5    honeycrisp apple\n",
       "dtype: object"
      ]
     },
     "execution_count": 96,
     "metadata": {},
     "output_type": "execute_result"
    }
   ],
   "source": [
    "f = fruits.str.len().max()\n",
    "f\n",
    "fruits[fruits.str.len() == 16]"
   ]
  },
  {
   "cell_type": "code",
   "execution_count": 81,
   "id": "ecce4cac",
   "metadata": {},
   "outputs": [
    {
     "data": {
      "text/plain": [
       "11"
      ]
     },
     "execution_count": 81,
     "metadata": {},
     "output_type": "execute_result"
    }
   ],
   "source": [
    "fruits[fruits.str.len() > 5].count()"
   ]
  },
  {
   "cell_type": "code",
   "execution_count": 98,
   "id": "be855c63",
   "metadata": {},
   "outputs": [
    {
     "data": {
      "text/plain": [
       "6         tomato\n",
       "15    gooseberry\n",
       "dtype: object"
      ]
     },
     "execution_count": 98,
     "metadata": {},
     "output_type": "execute_result"
    }
   ],
   "source": [
    "c = fruits.str.count('o')\n",
    "fruits[c == 2]"
   ]
  },
  {
   "cell_type": "code",
   "execution_count": 101,
   "id": "e0739e3e",
   "metadata": {},
   "outputs": [
    {
     "data": {
      "text/plain": [
       "2     strawberry\n",
       "13     blueberry\n",
       "14    blackberry\n",
       "15    gooseberry\n",
       "dtype: object"
      ]
     },
     "execution_count": 101,
     "metadata": {},
     "output_type": "execute_result"
    }
   ],
   "source": [
    "fruits[fruits.str.contains('berry')]"
   ]
  },
  {
   "cell_type": "code",
   "execution_count": 102,
   "id": "12385010",
   "metadata": {},
   "outputs": [
    {
     "data": {
      "text/plain": [
       "3           pineapple\n",
       "4          gala apple\n",
       "5    honeycrisp apple\n",
       "dtype: object"
      ]
     },
     "execution_count": 102,
     "metadata": {},
     "output_type": "execute_result"
    }
   ],
   "source": [
    "fruits[fruits.str.contains('apple')]"
   ]
  },
  {
   "cell_type": "code",
   "execution_count": 104,
   "id": "d516fefe",
   "metadata": {},
   "outputs": [
    {
     "name": "stdout",
     "output_type": "stream",
     "text": [
      "honeycrisp apple\n"
     ]
    },
    {
     "data": {
      "text/plain": [
       "5"
      ]
     },
     "execution_count": 104,
     "metadata": {},
     "output_type": "execute_result"
    }
   ],
   "source": [
    "print(fruits[fruits_with_vowels.max()])\n",
    "fruits_with_vowels.max()"
   ]
  },
  {
   "cell_type": "code",
   "execution_count": 107,
   "id": "c375fbeb",
   "metadata": {},
   "outputs": [],
   "source": [
    "letter_list = list('hnvidduckkqxwymbimkccexbkmqygkxoyndmcxnwqarhyffsjpsrabtjzsypmzadfavyrnndndvswreauxovncxtwzpwejilzjrmmbbgbyxvjtewqthafnbkqplarokkyydtubbmnexoypulzwfhqvckdpqtpoppzqrmcvhhpwgjwupgzhiofohawytlsiyecuproguy')"
   ]
  },
  {
   "cell_type": "code",
   "execution_count": 108,
   "id": "4e92a926",
   "metadata": {},
   "outputs": [],
   "source": [
    "letters= pd.Series(letter_list)"
   ]
  },
  {
   "cell_type": "code",
   "execution_count": 114,
   "id": "eb92abba",
   "metadata": {},
   "outputs": [
    {
     "data": {
      "text/plain": [
       "y    13\n",
       "dtype: int64"
      ]
     },
     "execution_count": 114,
     "metadata": {},
     "output_type": "execute_result"
    }
   ],
   "source": [
    "letters.value_counts().nlargest(1)"
   ]
  },
  {
   "cell_type": "code",
   "execution_count": 116,
   "id": "bd1f0fba",
   "metadata": {},
   "outputs": [
    {
     "data": {
      "text/plain": [
       "l    4\n",
       "dtype: int64"
      ]
     },
     "execution_count": 116,
     "metadata": {},
     "output_type": "execute_result"
    }
   ],
   "source": [
    "letters.value_counts().nsmallest(1)"
   ]
  },
  {
   "cell_type": "code",
   "execution_count": 124,
   "id": "e60295d1",
   "metadata": {},
   "outputs": [
    {
     "data": {
      "text/plain": [
       "34"
      ]
     },
     "execution_count": 124,
     "metadata": {},
     "output_type": "execute_result"
    }
   ],
   "source": [
    "letters[letters.apply(vowel_count) == 1].count()"
   ]
  },
  {
   "cell_type": "code",
   "execution_count": 123,
   "id": "e09554e6",
   "metadata": {},
   "outputs": [
    {
     "data": {
      "text/plain": [
       "166"
      ]
     },
     "execution_count": 123,
     "metadata": {},
     "output_type": "execute_result"
    }
   ],
   "source": [
    "letters[letters.apply(vowel_count) == 0].count()"
   ]
  },
  {
   "cell_type": "code",
   "execution_count": 128,
   "id": "f9721d25",
   "metadata": {},
   "outputs": [
    {
     "data": {
      "text/plain": [
       "0      H\n",
       "1      N\n",
       "2      V\n",
       "3      I\n",
       "4      D\n",
       "      ..\n",
       "195    R\n",
       "196    O\n",
       "197    G\n",
       "198    U\n",
       "199    Y\n",
       "Length: 200, dtype: object"
      ]
     },
     "execution_count": 128,
     "metadata": {},
     "output_type": "execute_result"
    }
   ],
   "source": [
    "upper_series = letters.str.upper()"
   ]
  },
  {
   "cell_type": "code",
   "execution_count": 153,
   "id": "7edcc1e2",
   "metadata": {},
   "outputs": [
    {
     "data": {
      "text/plain": [
       "[Text(0.5, 0, 'Letter'),\n",
       " Text(0, 0.5, 'Frequency'),\n",
       " [<matplotlib.axis.YTick at 0x148cbe580>,\n",
       "  <matplotlib.axis.YTick at 0x148cb6dc0>,\n",
       "  <matplotlib.axis.YTick at 0x148cb6460>,\n",
       "  <matplotlib.axis.YTick at 0x148d02040>,\n",
       "  <matplotlib.axis.YTick at 0x148d02790>,\n",
       "  <matplotlib.axis.YTick at 0x148cfa940>,\n",
       "  <matplotlib.axis.YTick at 0x148cf46d0>,\n",
       "  <matplotlib.axis.YTick at 0x148d02070>,\n",
       "  <matplotlib.axis.YTick at 0x148d0b430>,\n",
       "  <matplotlib.axis.YTick at 0x148d0bb80>,\n",
       "  <matplotlib.axis.YTick at 0x148d10310>,\n",
       "  <matplotlib.axis.YTick at 0x148d10a60>,\n",
       "  <matplotlib.axis.YTick at 0x148d0b6a0>,\n",
       "  <matplotlib.axis.YTick at 0x148cfa4c0>]]"
      ]
     },
     "execution_count": 153,
     "metadata": {},
     "output_type": "execute_result"
    },
    {
     "data": {
      "image/png": "[encoded data removed]",
      "text/plain": [
       "<Figure size 640x480 with 1 Axes>"
      ]
     },
     "metadata": {},
     "output_type": "display_data"
    }
   ],
   "source": [
    "letters.value_counts().head(6).plot.bar(title = 'Letters',\n",
    "                               rot = 0,\n",
    "                               color = 'blue',\n",
    "                               ec = 'black',\n",
    "                               width = .7).set(\n",
    "xlabel = 'Letter', ylabel = 'Frequency', yticks = (range(1, 15, 1)))"
   ]
  },
  {
   "cell_type": "code",
   "execution_count": 147,
   "id": "41fa8e1d",
   "metadata": {},
   "outputs": [],
   "source": [
    "num_list = ['$796,459.41', '$278.60', '$482,571.67', '$4,503,915.98', '$2,121,418.3', '$1,260,813.3', '$87,231.01', '$1,509,175.45', '$4,138,548.00', '$2,848,913.80', '$594,715.39', '$4,789,988.17', '$4,513,644.5', '$3,191,059.97', '$1,758,712.24', '$4,338,283.54', '$4,738,303.38', '$2,791,759.67', '$769,681.94', '$452,650.23']"
   ]
  },
  {
   "cell_type": "code",
   "execution_count": 148,
   "id": "e635e957",
   "metadata": {},
   "outputs": [],
   "source": [
    "numbers = pd.Series(num_list)"
   ]
  },
  {
   "cell_type": "code",
   "execution_count": 150,
   "id": "72507257",
   "metadata": {},
   "outputs": [
    {
     "data": {
      "text/plain": [
       "dtype('O')"
      ]
     },
     "execution_count": 150,
     "metadata": {},
     "output_type": "execute_result"
    }
   ],
   "source": [
    "numbers.dtype"
   ]
  },
  {
   "cell_type": "code",
   "execution_count": 152,
   "id": "a53026db",
   "metadata": {},
   "outputs": [
    {
     "data": {
      "text/plain": [
       "20"
      ]
     },
     "execution_count": 152,
     "metadata": {},
     "output_type": "execute_result"
    }
   ],
   "source": [
    "numbers.count()"
   ]
  },
  {
   "cell_type": "code",
   "execution_count": 167,
   "id": "2f4c58a1",
   "metadata": {},
   "outputs": [
    {
     "data": {
      "text/plain": [
       "0       $796,459.41\n",
       "1           $278.60\n",
       "2       $482,571.67\n",
       "3     $4,503,915.98\n",
       "4      $2,121,418.3\n",
       "5      $1,260,813.3\n",
       "6        $87,231.01\n",
       "7     $1,509,175.45\n",
       "8     $4,138,548.00\n",
       "9     $2,848,913.80\n",
       "10      $594,715.39\n",
       "11    $4,789,988.17\n",
       "12     $4,513,644.5\n",
       "13    $3,191,059.97\n",
       "14    $1,758,712.24\n",
       "15    $4,338,283.54\n",
       "16    $4,738,303.38\n",
       "17    $2,791,759.67\n",
       "18      $769,681.94\n",
       "19      $452,650.23\n",
       "dtype: object"
      ]
     },
     "execution_count": 167,
     "metadata": {},
     "output_type": "execute_result"
    }
   ],
   "source": [
    "numbers"
   ]
  },
  {
   "cell_type": "code",
   "execution_count": 156,
   "id": "17e45923",
   "metadata": {},
   "outputs": [],
   "source": [
    "def clean(x):\n",
    "    x = x.replace('$', '')\n",
    "    x = x.replace(',', '')\n",
    "    x = round(float(x), 2)\n",
    "    return x"
   ]
  },
  {
   "cell_type": "code",
   "execution_count": 158,
   "id": "6636e32f",
   "metadata": {},
   "outputs": [],
   "source": [
    "clean_nums = numbers.apply(clean)"
   ]
  },
  {
   "cell_type": "code",
   "execution_count": 161,
   "id": "a4e478f4",
   "metadata": {},
   "outputs": [
    {
     "data": {
      "text/plain": [
       "0      796459.41\n",
       "1         278.60\n",
       "2      482571.67\n",
       "3     4503915.98\n",
       "4     2121418.30\n",
       "5     1260813.30\n",
       "6       87231.01\n",
       "7     1509175.45\n",
       "8     4138548.00\n",
       "9     2848913.80\n",
       "10     594715.39\n",
       "11    4789988.17\n",
       "12    4513644.50\n",
       "13    3191059.97\n",
       "14    1758712.24\n",
       "15    4338283.54\n",
       "16    4738303.38\n",
       "17    2791759.67\n",
       "18     769681.94\n",
       "19     452650.23\n",
       "dtype: float64"
      ]
     },
     "execution_count": 161,
     "metadata": {},
     "output_type": "execute_result"
    }
   ],
   "source": [
    "clean_nums"
   ]
  },
  {
   "cell_type": "code",
   "execution_count": 159,
   "id": "3958fb09",
   "metadata": {},
   "outputs": [
    {
     "data": {
      "text/plain": [
       "4789988.17"
      ]
     },
     "execution_count": 159,
     "metadata": {},
     "output_type": "execute_result"
    }
   ],
   "source": [
    "clean_nums.max()"
   ]
  },
  {
   "cell_type": "code",
   "execution_count": 160,
   "id": "1970b87e",
   "metadata": {},
   "outputs": [
    {
     "data": {
      "text/plain": [
       "278.6"
      ]
     },
     "execution_count": 160,
     "metadata": {},
     "output_type": "execute_result"
    }
   ],
   "source": [
    "clean_nums.min()"
   ]
  },
  {
   "cell_type": "code",
   "execution_count": 164,
   "id": "f91181b5",
   "metadata": {},
   "outputs": [
    {
     "data": {
      "text/plain": [
       "4789709.57"
      ]
     },
     "execution_count": 164,
     "metadata": {},
     "output_type": "execute_result"
    }
   ],
   "source": [
    "clean_nums.max() - clean_nums.min()"
   ]
  },
  {
   "cell_type": "code",
   "execution_count": 180,
   "id": "b46d68cc",
   "metadata": {},
   "outputs": [
    {
     "data": {
      "text/plain": [
       "0     Bin1\n",
       "1     Bin1\n",
       "2     Bin1\n",
       "3     Bin4\n",
       "4     Bin2\n",
       "5     Bin2\n",
       "6     Bin1\n",
       "7     Bin2\n",
       "8     Bin4\n",
       "9     Bin3\n",
       "10    Bin1\n",
       "11    Bin4\n",
       "12    Bin4\n",
       "13    Bin3\n",
       "14    Bin2\n",
       "15    Bin4\n",
       "16    Bin4\n",
       "17    Bin3\n",
       "18    Bin1\n",
       "19    Bin1\n",
       "dtype: category\n",
       "Categories (4, object): ['Bin1' < 'Bin2' < 'Bin3' < 'Bin4']"
      ]
     },
     "execution_count": 180,
     "metadata": {},
     "output_type": "execute_result"
    }
   ],
   "source": [
    "num_bins = pd.cut(clean_nums, 4, labels = ['Bin1', 'Bin2', 'Bin3', 'Bin4'])\n",
    "num_bins"
   ]
  },
  {
   "cell_type": "code",
   "execution_count": 181,
   "id": "18836d54",
   "metadata": {},
   "outputs": [
    {
     "data": {
      "text/plain": [
       "[Text(0.5, 0, 'Bin'), Text(0, 0.5, 'Total')]"
      ]
     },
     "execution_count": 181,
     "metadata": {},
     "output_type": "execute_result"
    },
    {
     "data": {
      "image/png": "[encoded data removed]",
      "text/plain": [
       "<Figure size 640x480 with 1 Axes>"
      ]
     },
     "metadata": {},
     "output_type": "display_data"
    }
   ],
   "source": [
    "num_bins.value_counts().plot.bar(title = 'Bin Count',\n",
    "                               rot = 0,\n",
    "                               color = 'darkcyan',\n",
    "                               ec = 'black',\n",
    "                               width = .7).set(\n",
    "xlabel = 'Bin', ylabel = 'Total')"
   ]
  },
  {
   "cell_type": "code",
   "execution_count": 184,
   "id": "f05aa129",
   "metadata": {},
   "outputs": [],
   "source": [
    "score_list = [60, 86, 75, 62, 93, 71, 60, 83, 95, 78, 65, 72, 69, 81, 96, 80, 85, 92, 82, 78]"
   ]
  },
  {
   "cell_type": "code",
   "execution_count": 186,
   "id": "9aecd8cb",
   "metadata": {},
   "outputs": [],
   "source": [
    "exam_scores = pd.Series(score_list)"
   ]
  },
  {
   "cell_type": "code",
   "execution_count": 187,
   "id": "a1bc33a9",
   "metadata": {},
   "outputs": [
    {
     "data": {
      "text/plain": [
       "20"
      ]
     },
     "execution_count": 187,
     "metadata": {},
     "output_type": "execute_result"
    }
   ],
   "source": [
    "exam_scores.count()"
   ]
  },
  {
   "cell_type": "code",
   "execution_count": 190,
   "id": "bc5770a2",
   "metadata": {},
   "outputs": [
    {
     "name": "stdout",
     "output_type": "stream",
     "text": [
      "60 96 78.15 79.0\n"
     ]
    }
   ],
   "source": [
    "print(exam_scores.min(), exam_scores.max(), exam_scores.mean(), exam_scores.median())"
   ]
  },
  {
   "cell_type": "code",
   "execution_count": 206,
   "id": "68b7e90e",
   "metadata": {},
   "outputs": [
    {
     "data": {
      "text/plain": [
       "[Text(0.5, 0, 'Number of Scores'), Text(0, 0.5, 'Exam Score')]"
      ]
     },
     "execution_count": 206,
     "metadata": {},
     "output_type": "execute_result"
    },
    {
     "data": {
      "image/png": "[encoded data removed]",
      "text/plain": [
       "<Figure size 640x480 with 1 Axes>"
      ]
     },
     "metadata": {},
     "output_type": "display_data"
    }
   ],
   "source": [
    "exam_scores.value_counts().plot.barh(title = 'Exam Scores',\n",
    "                               rot = 0,\n",
    "                               color = 'slategrey',\n",
    "                               ec = 'black',\n",
    "                               width = .7).set(\n",
    "xlabel = 'Number of Scores', ylabel = 'Exam Score')"
   ]
  },
  {
   "cell_type": "code",
   "execution_count": 241,
   "id": "3f831758",
   "metadata": {},
   "outputs": [],
   "source": [
    "def curved_grades(x):\n",
    "    x = x + 4\n",
    "    return x\n",
    "curved_scores = exam_scores.apply(curved_grades)"
   ]
  },
  {
   "cell_type": "code",
   "execution_count": 255,
   "id": "326ca54b",
   "metadata": {},
   "outputs": [],
   "source": [
    "curved_bins = pd.cut(curved_scores, bins = [0, 59, 69, 79, 89, 100], labels = ['F', 'D', 'C', 'B', 'A'])"
   ]
  },
  {
   "cell_type": "code",
   "execution_count": 258,
   "id": "505e1490",
   "metadata": {},
   "outputs": [
    {
     "data": {
      "text/plain": [
       "[Text(0.5, 0, 'Exam Score'), Text(0, 0.5, 'Amount of Scores')]"
      ]
     },
     "execution_count": 258,
     "metadata": {},
     "output_type": "execute_result"
    },
    {
     "data": {
      "image/png": "[encoded data removed]",
      "text/plain": [
       "<Figure size 640x480 with 1 Axes>"
      ]
     },
     "metadata": {},
     "output_type": "display_data"
    }
   ],
   "source": [
    "curved_bins.value_counts().plot.bar(title = 'Exam Scores',\n",
    "                               rot = 0,\n",
    "                               color = 'slategrey',\n",
    "                               ec = 'black',\n",
    "                               width = .7).set(\n",
    "xlabel = 'Exam Score', ylabel = 'Amount of Scores')"
   ]
  }
 ],
 "metadata": {
  "kernelspec": {
   "display_name": "Python 3 (ipykernel)",
   "language": "python",
   "name": "python3"
  },
  "language_info": {
   "codemirror_mode": {
    "name": "ipython",
    "version": 3
   },
   "file_extension": ".py",
   "mimetype": "text/x-python",
   "name": "python",
   "nbconvert_exporter": "python",
   "pygments_lexer": "ipython3",
   "version": "3.9.13"
  }
 },
 "nbformat": 4,
 "nbformat_minor": 5
}
